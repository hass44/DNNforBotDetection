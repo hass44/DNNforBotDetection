{
 "cells": [
  {
   "cell_type": "markdown",
   "metadata": {
    "id": "Awl3jnQg0qRp"
   },
   "source": [
    "# Tweet Classification"
   ]
  },
  {
   "cell_type": "markdown",
   "metadata": {
    "id": "Xnr4V8QQUe3y"
   },
   "source": [
    "## Data Set Loading"
   ]
  },
  {
   "cell_type": "markdown",
   "metadata": {
    "id": "9KQMAyjUSB1C"
   },
   "source": [
    "### DATA Load"
   ]
  },
  {
   "cell_type": "code",
   "execution_count": 1,
   "metadata": {
    "id": "dACFTDGB0pqQ"
   },
   "outputs": [],
   "source": [
    "import pandas as pd"
   ]
  },
  {
   "cell_type": "code",
   "execution_count": 2,
   "metadata": {
    "id": "1vy_sPgu04ci"
   },
   "outputs": [
    {
     "name": "stderr",
     "output_type": "stream",
     "text": [
      "C:\\Users\\hassa\\AppData\\Local\\Temp\\ipykernel_9036\\2020695786.py:3: DtypeWarning: Columns (10) have mixed types. Specify dtype option on import or set low_memory=False.\n",
      "  pd.read_csv('D:/DNNforBotDetection/DNNforBotDetection/input/cresci-2017.csv/Tweets/Social_spambots_1.csv', encoding='latin-1'),\n",
      "C:\\Users\\hassa\\AppData\\Local\\Temp\\ipykernel_9036\\2020695786.py:4: DtypeWarning: Columns (10) have mixed types. Specify dtype option on import or set low_memory=False.\n",
      "  pd.read_csv('D:/DNNforBotDetection/DNNforBotDetection/input/cresci-2017.csv/Tweets/social_spambots_2.csv', encoding='latin-1'),\n",
      "C:\\Users\\hassa\\AppData\\Local\\Temp\\ipykernel_9036\\2020695786.py:5: DtypeWarning: Columns (7,10) have mixed types. Specify dtype option on import or set low_memory=False.\n",
      "  pd.read_csv('D:/DNNforBotDetection/DNNforBotDetection/input/cresci-2017.csv/Tweets/social_spambots_3.csv', encoding='latin-1')\n",
      "C:\\Users\\hassa\\AppData\\Local\\Temp\\ipykernel_9036\\2020695786.py:9: DtypeWarning: Columns (0) have mixed types. Specify dtype option on import or set low_memory=False.\n",
      "  clean_tweets = pd.read_csv('D:/DNNforBotDetection/DNNforBotDetection/input/cresci-2017.csv/Tweets/genuine_accounts.csv', encoding='latin-1')\n"
     ]
    }
   ],
   "source": [
    "# Concatenate social spambot tweets\n",
    "bot_tweets = pd.concat([\n",
    "    pd.read_csv('D:/DNNforBotDetection/DNNforBotDetection/input/cresci-2017.csv/Tweets/Social_spambots_1.csv', encoding='latin-1'),\n",
    "    pd.read_csv('D:/DNNforBotDetection/DNNforBotDetection/input/cresci-2017.csv/Tweets/social_spambots_2.csv', encoding='latin-1'),\n",
    "    pd.read_csv('D:/DNNforBotDetection/DNNforBotDetection/input/cresci-2017.csv/Tweets/social_spambots_3.csv', encoding='latin-1')\n",
    "]).reset_index(drop=True)\n",
    "\n",
    "# Read genuine account tweets\n",
    "clean_tweets = pd.read_csv('D:/DNNforBotDetection/DNNforBotDetection/input/cresci-2017.csv/Tweets/genuine_accounts.csv', encoding='latin-1')\n"
   ]
  },
  {
   "cell_type": "code",
   "execution_count": 3,
   "metadata": {
    "colab": {
     "base_uri": "https://localhost:8080/"
    },
    "id": "m1-tmVXi1CqB",
    "outputId": "f961fb80-e6a3-4040-9c20-785fe4103cc2"
   },
   "outputs": [
    {
     "name": "stdout",
     "output_type": "stream",
     "text": [
      "id                           int64\n",
      "text                        object\n",
      "source                      object\n",
      "user_id                      int64\n",
      "truncated                  float64\n",
      "in_reply_to_status_id        int64\n",
      "in_reply_to_user_id          int64\n",
      "in_reply_to_screen_name     object\n",
      "retweeted_status_id          int64\n",
      "geo                        float64\n",
      "place                       object\n",
      "contributors               float64\n",
      "retweet_count                int64\n",
      "reply_count                  int64\n",
      "favorite_count               int64\n",
      "favorited                  float64\n",
      "retweeted                  float64\n",
      "possibly_sensitive         float64\n",
      "num_hashtags                 int64\n",
      "num_urls                     int64\n",
      "num_mentions                 int64\n",
      "created_at                  object\n",
      "timestamp                   object\n",
      "crawled_at                  object\n",
      "updated                     object\n",
      "dtype: object\n"
     ]
    }
   ],
   "source": [
    "print(bot_tweets.dtypes)"
   ]
  },
  {
   "cell_type": "markdown",
   "metadata": {
    "id": "XyGSaCxpVFMr"
   },
   "source": [
    "### Data Pre-Processing"
   ]
  },
  {
   "cell_type": "code",
   "execution_count": 4,
   "metadata": {
    "id": "tEnVtfbZVMr-"
   },
   "outputs": [],
   "source": [
    "import re\n",
    "import emoji\n",
    "import pandas as pd"
   ]
  },
  {
   "cell_type": "code",
   "execution_count": 5,
   "metadata": {
    "id": "hceYdUtG1EpR"
   },
   "outputs": [],
   "source": [
    "# List of columns to drop\n",
    "columns_to_drop = ['truncated', 'in_reply_to_status_id', 'in_reply_to_user_id', 'in_reply_to_screen_name',\n",
    "                   'retweeted_status_id', 'geo', 'place', 'contributors', 'favorited', 'retweeted',\n",
    "                   'possibly_sensitive', 'created_at', 'timestamp', 'crawled_at', 'updated']\n",
    "\n",
    "# Drop the columns from the DataFrame\n",
    "bot_tweets = bot_tweets.drop(columns=columns_to_drop)\n",
    "clean_tweets = clean_tweets.drop(columns=columns_to_drop)"
   ]
  },
  {
   "cell_type": "code",
   "execution_count": 6,
   "metadata": {},
   "outputs": [],
   "source": [
    "# Drop 85% of samples to make it computationally feasible\n",
    "\n",
    "clean_tweets = clean_tweets.drop(clean_tweets.sample(frac=0.5, random_state=42).index)\n",
    "bot_tweets = bot_tweets.drop(bot_tweets.sample(frac=0.5, random_state=42).index)"
   ]
  },
  {
   "cell_type": "code",
   "execution_count": 7,
   "metadata": {
    "colab": {
     "base_uri": "https://localhost:8080/"
    },
    "id": "JVKs_V3QI28S",
    "outputId": "a5f08d71-8f5d-4fea-f043-f9294974eb2b"
   },
   "outputs": [
    {
     "data": {
      "text/plain": [
       "id                 int64\n",
       "text              object\n",
       "source            object\n",
       "user_id            int64\n",
       "retweet_count      int64\n",
       "reply_count        int64\n",
       "favorite_count     int64\n",
       "num_hashtags       int64\n",
       "num_urls           int64\n",
       "num_mentions       int64\n",
       "dtype: object"
      ]
     },
     "execution_count": 7,
     "metadata": {},
     "output_type": "execute_result"
    }
   ],
   "source": [
    "bot_tweets.dtypes"
   ]
  },
  {
   "cell_type": "code",
   "execution_count": 8,
   "metadata": {
    "id": "lG9SbTtWJA8W"
   },
   "outputs": [],
   "source": [
    "bot_tweets['BotOrNot'] = 1\n",
    "clean_tweets['BotOrNot'] = 0\n",
    "\n",
    "Tweets1_df = pd.concat([bot_tweets, clean_tweets])\n",
    "\n",
    "Tweets_df = Tweets1_df.sample(frac=1).reset_index(drop=True)"
   ]
  },
  {
   "cell_type": "code",
   "execution_count": 9,
   "metadata": {
    "id": "z_EaOl0OXUa0"
   },
   "outputs": [],
   "source": [
    "# Remove null samples from the 'text' column\n",
    "Tweets_df = Tweets_df.dropna(subset=['text'])"
   ]
  },
  {
   "cell_type": "code",
   "execution_count": 10,
   "metadata": {},
   "outputs": [
    {
     "data": {
      "text/html": [
       "<div>\n",
       "<style scoped>\n",
       "    .dataframe tbody tr th:only-of-type {\n",
       "        vertical-align: middle;\n",
       "    }\n",
       "\n",
       "    .dataframe tbody tr th {\n",
       "        vertical-align: top;\n",
       "    }\n",
       "\n",
       "    .dataframe thead th {\n",
       "        text-align: right;\n",
       "    }\n",
       "</style>\n",
       "<table border=\"1\" class=\"dataframe\">\n",
       "  <thead>\n",
       "    <tr style=\"text-align: right;\">\n",
       "      <th></th>\n",
       "      <th>id</th>\n",
       "      <th>text</th>\n",
       "      <th>source</th>\n",
       "      <th>user_id</th>\n",
       "      <th>retweet_count</th>\n",
       "      <th>reply_count</th>\n",
       "      <th>favorite_count</th>\n",
       "      <th>num_hashtags</th>\n",
       "      <th>num_urls</th>\n",
       "      <th>num_mentions</th>\n",
       "      <th>BotOrNot</th>\n",
       "    </tr>\n",
       "  </thead>\n",
       "  <tbody>\n",
       "    <tr>\n",
       "      <th>0</th>\n",
       "      <td>461800985719885824</td>\n",
       "      <td>Russia invaded and controlled Ukraine without ...</td>\n",
       "      <td>&lt;a href=\"http://twitter.com\" rel=\"nofollow\"&gt;Tw...</td>\n",
       "      <td>2.384166e+09</td>\n",
       "      <td>0.0</td>\n",
       "      <td>0.0</td>\n",
       "      <td>0.0</td>\n",
       "      <td>0.0</td>\n",
       "      <td>0.0</td>\n",
       "      <td>0.0</td>\n",
       "      <td>1</td>\n",
       "    </tr>\n",
       "    <tr>\n",
       "      <th>1</th>\n",
       "      <td>525750960510222336</td>\n",
       "      <td>Magari la vita fosse facile come incontrare ch...</td>\n",
       "      <td>&lt;a href=\"http://www.fedeconiglietta.com\" rel=\"...</td>\n",
       "      <td>4.663751e+08</td>\n",
       "      <td>0.0</td>\n",
       "      <td>0.0</td>\n",
       "      <td>0.0</td>\n",
       "      <td>0.0</td>\n",
       "      <td>0.0</td>\n",
       "      <td>0.0</td>\n",
       "      <td>1</td>\n",
       "    </tr>\n",
       "    <tr>\n",
       "      <th>2</th>\n",
       "      <td>510649702099202048</td>\n",
       "      <td>Yum! Even MORE Brownie's Edge In This Baker's ...</td>\n",
       "      <td>&lt;a href=\"http://tweetadder.com\" rel=\"nofollow\"...</td>\n",
       "      <td>3.354013e+08</td>\n",
       "      <td>0.0</td>\n",
       "      <td>0.0</td>\n",
       "      <td>0.0</td>\n",
       "      <td>0.0</td>\n",
       "      <td>1.0</td>\n",
       "      <td>0.0</td>\n",
       "      <td>1</td>\n",
       "    </tr>\n",
       "    <tr>\n",
       "      <th>3</th>\n",
       "      <td>514068776598659072</td>\n",
       "      <td>Check Out The Top 10 European Beers  http://t....</td>\n",
       "      <td>&lt;a href=\"http://tweetadder.com\" rel=\"nofollow\"...</td>\n",
       "      <td>1.190159e+09</td>\n",
       "      <td>0.0</td>\n",
       "      <td>0.0</td>\n",
       "      <td>0.0</td>\n",
       "      <td>0.0</td>\n",
       "      <td>1.0</td>\n",
       "      <td>0.0</td>\n",
       "      <td>1</td>\n",
       "    </tr>\n",
       "    <tr>\n",
       "      <th>4</th>\n",
       "      <td>567891364337160192</td>\n",
       "      <td>RT @eternalquote_: Emotionally: I'm done. Ment...</td>\n",
       "      <td>&lt;a href=\"http://twitter.com/download/iphone\" r...</td>\n",
       "      <td>1.919095e+09</td>\n",
       "      <td>954.0</td>\n",
       "      <td>0.0</td>\n",
       "      <td>0.0</td>\n",
       "      <td>0.0</td>\n",
       "      <td>0.0</td>\n",
       "      <td>1.0</td>\n",
       "      <td>0</td>\n",
       "    </tr>\n",
       "    <tr>\n",
       "      <th>...</th>\n",
       "      <td>...</td>\n",
       "      <td>...</td>\n",
       "      <td>...</td>\n",
       "      <td>...</td>\n",
       "      <td>...</td>\n",
       "      <td>...</td>\n",
       "      <td>...</td>\n",
       "      <td>...</td>\n",
       "      <td>...</td>\n",
       "      <td>...</td>\n",
       "      <td>...</td>\n",
       "    </tr>\n",
       "    <tr>\n",
       "      <th>3148243</th>\n",
       "      <td>409271432980725760</td>\n",
       "      <td>Tutti gli uomini sono commedianti. Salvo, fors...</td>\n",
       "      <td>&lt;a href=\"http://www.giovannamezzett.it\" rel=\"n...</td>\n",
       "      <td>1.273201e+09</td>\n",
       "      <td>0.0</td>\n",
       "      <td>0.0</td>\n",
       "      <td>0.0</td>\n",
       "      <td>0.0</td>\n",
       "      <td>0.0</td>\n",
       "      <td>0.0</td>\n",
       "      <td>1</td>\n",
       "    </tr>\n",
       "    <tr>\n",
       "      <th>3148244</th>\n",
       "      <td>585241732457095168</td>\n",
       "      <td>RT @tomkrazit: 2015.  https://t.co/q244TbZYit</td>\n",
       "      <td>&lt;a href=\"http://twitter.com\" rel=\"nofollow\"&gt;Tw...</td>\n",
       "      <td>1.430704e+07</td>\n",
       "      <td>14.0</td>\n",
       "      <td>0.0</td>\n",
       "      <td>0.0</td>\n",
       "      <td>0.0</td>\n",
       "      <td>1.0</td>\n",
       "      <td>1.0</td>\n",
       "      <td>0</td>\n",
       "    </tr>\n",
       "    <tr>\n",
       "      <th>3148245</th>\n",
       "      <td>568779099172442112</td>\n",
       "      <td>@Celnide https://t.co/44xxim7eMq</td>\n",
       "      <td>&lt;a href=\"http://twitter.com\" rel=\"nofollow\"&gt;Tw...</td>\n",
       "      <td>5.677650e+08</td>\n",
       "      <td>1.0</td>\n",
       "      <td>0.0</td>\n",
       "      <td>1.0</td>\n",
       "      <td>0.0</td>\n",
       "      <td>1.0</td>\n",
       "      <td>1.0</td>\n",
       "      <td>0</td>\n",
       "    </tr>\n",
       "    <tr>\n",
       "      <th>3148246</th>\n",
       "      <td>460960090019749888</td>\n",
       "      <td>They were right, 11 hours of sleep does make a...</td>\n",
       "      <td>&lt;a href=\"http://twitter.com\" rel=\"nofollow\"&gt;Tw...</td>\n",
       "      <td>2.359594e+09</td>\n",
       "      <td>0.0</td>\n",
       "      <td>0.0</td>\n",
       "      <td>0.0</td>\n",
       "      <td>0.0</td>\n",
       "      <td>0.0</td>\n",
       "      <td>0.0</td>\n",
       "      <td>1</td>\n",
       "    </tr>\n",
       "    <tr>\n",
       "      <th>3148247</th>\n",
       "      <td>479360491312406529</td>\n",
       "      <td>ufff.....</td>\n",
       "      <td>&lt;a href=\"http://twitter.com\" rel=\"nofollow\"&gt;Tw...</td>\n",
       "      <td>1.089929e+08</td>\n",
       "      <td>0.0</td>\n",
       "      <td>0.0</td>\n",
       "      <td>0.0</td>\n",
       "      <td>0.0</td>\n",
       "      <td>0.0</td>\n",
       "      <td>0.0</td>\n",
       "      <td>1</td>\n",
       "    </tr>\n",
       "  </tbody>\n",
       "</table>\n",
       "<p>3141714 rows × 11 columns</p>\n",
       "</div>"
      ],
      "text/plain": [
       "                         id  \\\n",
       "0        461800985719885824   \n",
       "1        525750960510222336   \n",
       "2        510649702099202048   \n",
       "3        514068776598659072   \n",
       "4        567891364337160192   \n",
       "...                     ...   \n",
       "3148243  409271432980725760   \n",
       "3148244  585241732457095168   \n",
       "3148245  568779099172442112   \n",
       "3148246  460960090019749888   \n",
       "3148247  479360491312406529   \n",
       "\n",
       "                                                      text  \\\n",
       "0        Russia invaded and controlled Ukraine without ...   \n",
       "1        Magari la vita fosse facile come incontrare ch...   \n",
       "2        Yum! Even MORE Brownie's Edge In This Baker's ...   \n",
       "3        Check Out The Top 10 European Beers  http://t....   \n",
       "4        RT @eternalquote_: Emotionally: I'm done. Ment...   \n",
       "...                                                    ...   \n",
       "3148243  Tutti gli uomini sono commedianti. Salvo, fors...   \n",
       "3148244      RT @tomkrazit: 2015.  https://t.co/q244TbZYit   \n",
       "3148245                   @Celnide https://t.co/44xxim7eMq   \n",
       "3148246  They were right, 11 hours of sleep does make a...   \n",
       "3148247                                          ufff.....   \n",
       "\n",
       "                                                    source       user_id  \\\n",
       "0        <a href=\"http://twitter.com\" rel=\"nofollow\">Tw...  2.384166e+09   \n",
       "1        <a href=\"http://www.fedeconiglietta.com\" rel=\"...  4.663751e+08   \n",
       "2        <a href=\"http://tweetadder.com\" rel=\"nofollow\"...  3.354013e+08   \n",
       "3        <a href=\"http://tweetadder.com\" rel=\"nofollow\"...  1.190159e+09   \n",
       "4        <a href=\"http://twitter.com/download/iphone\" r...  1.919095e+09   \n",
       "...                                                    ...           ...   \n",
       "3148243  <a href=\"http://www.giovannamezzett.it\" rel=\"n...  1.273201e+09   \n",
       "3148244  <a href=\"http://twitter.com\" rel=\"nofollow\">Tw...  1.430704e+07   \n",
       "3148245  <a href=\"http://twitter.com\" rel=\"nofollow\">Tw...  5.677650e+08   \n",
       "3148246  <a href=\"http://twitter.com\" rel=\"nofollow\">Tw...  2.359594e+09   \n",
       "3148247  <a href=\"http://twitter.com\" rel=\"nofollow\">Tw...  1.089929e+08   \n",
       "\n",
       "         retweet_count  reply_count  favorite_count  num_hashtags  num_urls  \\\n",
       "0                  0.0          0.0             0.0           0.0       0.0   \n",
       "1                  0.0          0.0             0.0           0.0       0.0   \n",
       "2                  0.0          0.0             0.0           0.0       1.0   \n",
       "3                  0.0          0.0             0.0           0.0       1.0   \n",
       "4                954.0          0.0             0.0           0.0       0.0   \n",
       "...                ...          ...             ...           ...       ...   \n",
       "3148243            0.0          0.0             0.0           0.0       0.0   \n",
       "3148244           14.0          0.0             0.0           0.0       1.0   \n",
       "3148245            1.0          0.0             1.0           0.0       1.0   \n",
       "3148246            0.0          0.0             0.0           0.0       0.0   \n",
       "3148247            0.0          0.0             0.0           0.0       0.0   \n",
       "\n",
       "         num_mentions  BotOrNot  \n",
       "0                 0.0         1  \n",
       "1                 0.0         1  \n",
       "2                 0.0         1  \n",
       "3                 0.0         1  \n",
       "4                 1.0         0  \n",
       "...               ...       ...  \n",
       "3148243           0.0         1  \n",
       "3148244           1.0         0  \n",
       "3148245           1.0         0  \n",
       "3148246           0.0         1  \n",
       "3148247           0.0         1  \n",
       "\n",
       "[3141714 rows x 11 columns]"
      ]
     },
     "execution_count": 10,
     "metadata": {},
     "output_type": "execute_result"
    }
   ],
   "source": [
    "Tweets_df"
   ]
  },
  {
   "cell_type": "code",
   "execution_count": 11,
   "metadata": {
    "id": "LpFSUKq-rjYg"
   },
   "outputs": [],
   "source": [
    "def replace_hashtags(tweet):\n",
    "    return re.sub(r'#\\w+', '<hashtag>', tweet)\n",
    "\n",
    "def replace_urls(tweet):\n",
    "    return re.sub(r'http\\S+|www\\S+', '<url>', tweet)\n",
    "\n",
    "def replace_numbers(tweet):\n",
    "    return re.sub(r'\\d+', '<number>', tweet)\n",
    "\n",
    "def replace_user_mentions(tweet):\n",
    "    return re.sub(r'@\\w+', '<user>', tweet)\n",
    "\n",
    "def replace_emojis(tweet):\n",
    "    emoji_dict = {\n",
    "        \":)\": \"<smile>\",\n",
    "        \"<3\": \"<heart>\",\n",
    "        \":D\": \"<lolface>\",\n",
    "        \":|\": \"<neutralface>\",\n",
    "        \">:(\": \"<angryface>\"\n",
    "    }\n",
    "    for emoticon, tag in emoji_dict.items():\n",
    "        tweet = tweet.replace(emoticon, tag)\n",
    "    tweet = emoji.demojize(tweet)\n",
    "    tweet = re.sub(r':\\w+:', '', tweet)\n",
    "    return tweet\n"
   ]
  },
  {
   "cell_type": "code",
   "execution_count": 12,
   "metadata": {
    "id": "Pj8EQqxIVeu2"
   },
   "outputs": [],
   "source": [
    "def add_allcaps_tag(word):\n",
    "    if word.isupper() or re.search(r'(\\w)\\1{2,}', word):\n",
    "        return f\"{word} <allcaps>\"\n",
    "    return word\n"
   ]
  },
  {
   "cell_type": "code",
   "execution_count": 13,
   "metadata": {
    "id": "xSalJWqGVh9y"
   },
   "outputs": [],
   "source": [
    "def preprocess_tweets(df):\n",
    "    df['text'] = df['text'].str.lower()\n",
    "    df['text'] = df['text'].apply(replace_hashtags)\n",
    "    df['text'] = df['text'].apply(replace_urls)\n",
    "    df['text'] = df['text'].apply(replace_numbers)\n",
    "    df['text'] = df['text'].apply(replace_user_mentions)\n",
    "    df['text'] = df['text'].apply(replace_emojis)\n",
    "    df['text'] = df['text'].apply(lambda tweet: ' '.join(add_allcaps_tag(word) for word in tweet.split()))\n",
    "    return df\n"
   ]
  },
  {
   "cell_type": "code",
   "execution_count": 14,
   "metadata": {
    "id": "augC43xjVk_7"
   },
   "outputs": [],
   "source": [
    "Final_Tweet_df = preprocess_tweets(Tweets_df)"
   ]
  },
  {
   "cell_type": "code",
   "execution_count": 15,
   "metadata": {
    "colab": {
     "base_uri": "https://localhost:8080/",
     "height": 1000
    },
    "id": "7vdNqFT-O4g-",
    "outputId": "cf0ccfcf-2484-469c-83f2-5e6129e2b039"
   },
   "outputs": [
    {
     "data": {
      "text/plain": [
       "Index(['id', 'text', 'source', 'user_id', 'retweet_count', 'reply_count',\n",
       "       'favorite_count', 'num_hashtags', 'num_urls', 'num_mentions',\n",
       "       'BotOrNot'],\n",
       "      dtype='object')"
      ]
     },
     "execution_count": 15,
     "metadata": {},
     "output_type": "execute_result"
    }
   ],
   "source": [
    "Final_Tweet_df.columns"
   ]
  },
  {
   "cell_type": "markdown",
   "metadata": {
    "id": "IICysZRObKKJ"
   },
   "source": [
    "### GLove model for creating vector embeddings"
   ]
  },
  {
   "cell_type": "code",
   "execution_count": 16,
   "metadata": {
    "id": "rl2hIzy9VrPo"
   },
   "outputs": [],
   "source": [
    "import numpy as np\n",
    "from gensim.models import KeyedVectors\n",
    "from sklearn.model_selection import train_test_split"
   ]
  },
  {
   "cell_type": "code",
   "execution_count": 17,
   "metadata": {
    "colab": {
     "base_uri": "https://localhost:8080/"
    },
    "id": "ZE60kagXcfRf",
    "outputId": "6dd4fdd9-37bf-4dfb-d179-6032b122e61c"
   },
   "outputs": [],
   "source": [
    "from gensim.models import KeyedVectors\n",
    "\n",
    "glove_path = \"D:/DNNforBotDetection/DNNforBotDetection/input/glove.6B.50d.txt\"  # Path to the downloaded GloVe file\n",
    "\n",
    "word_vectors = KeyedVectors.load_word2vec_format(glove_path, binary=False, no_header=True)\n"
   ]
  },
  {
   "cell_type": "code",
   "execution_count": 18,
   "metadata": {
    "id": "0KK7aMeDcoh5"
   },
   "outputs": [],
   "source": [
    "def get_tweet_embedding(tokens):\n",
    "    embeddings = []\n",
    "    for token in tokens:\n",
    "        if token in word_vectors:\n",
    "            embeddings.append(word_vectors[token])\n",
    "    if embeddings:\n",
    "        return np.mean(embeddings, axis=0)  # Average the word embeddings to get the tweet embedding\n",
    "    return np.zeros(word_vectors.vector_size)  # Return a zero vector if no valid word embeddings found\n"
   ]
  },
  {
   "cell_type": "code",
   "execution_count": 19,
   "metadata": {
    "id": "CUh-aS4ZdxFk"
   },
   "outputs": [],
   "source": [
    "Final_Tweet_df['embedding'] = Final_Tweet_df['text'].apply(get_tweet_embedding)"
   ]
  },
  {
   "cell_type": "code",
   "execution_count": 20,
   "metadata": {},
   "outputs": [
    {
     "data": {
      "text/html": [
       "<div>\n",
       "<style scoped>\n",
       "    .dataframe tbody tr th:only-of-type {\n",
       "        vertical-align: middle;\n",
       "    }\n",
       "\n",
       "    .dataframe tbody tr th {\n",
       "        vertical-align: top;\n",
       "    }\n",
       "\n",
       "    .dataframe thead th {\n",
       "        text-align: right;\n",
       "    }\n",
       "</style>\n",
       "<table border=\"1\" class=\"dataframe\">\n",
       "  <thead>\n",
       "    <tr style=\"text-align: right;\">\n",
       "      <th></th>\n",
       "      <th>id</th>\n",
       "      <th>text</th>\n",
       "      <th>source</th>\n",
       "      <th>user_id</th>\n",
       "      <th>retweet_count</th>\n",
       "      <th>reply_count</th>\n",
       "      <th>favorite_count</th>\n",
       "      <th>num_hashtags</th>\n",
       "      <th>num_urls</th>\n",
       "      <th>num_mentions</th>\n",
       "      <th>BotOrNot</th>\n",
       "      <th>embedding</th>\n",
       "    </tr>\n",
       "  </thead>\n",
       "  <tbody>\n",
       "    <tr>\n",
       "      <th>0</th>\n",
       "      <td>461800985719885824</td>\n",
       "      <td>russia invaded and controlled ukraine without ...</td>\n",
       "      <td>&lt;a href=\"http://twitter.com\" rel=\"nofollow\"&gt;Tw...</td>\n",
       "      <td>2.384166e+09</td>\n",
       "      <td>0.0</td>\n",
       "      <td>0.0</td>\n",
       "      <td>0.0</td>\n",
       "      <td>0.0</td>\n",
       "      <td>0.0</td>\n",
       "      <td>0.0</td>\n",
       "      <td>1</td>\n",
       "      <td>[-0.07598507, 0.75142807, 0.5416522, 0.5671289...</td>\n",
       "    </tr>\n",
       "    <tr>\n",
       "      <th>1</th>\n",
       "      <td>525750960510222336</td>\n",
       "      <td>magari la vita fosse facile come incontrare ch...</td>\n",
       "      <td>&lt;a href=\"http://www.fedeconiglietta.com\" rel=\"...</td>\n",
       "      <td>4.663751e+08</td>\n",
       "      <td>0.0</td>\n",
       "      <td>0.0</td>\n",
       "      <td>0.0</td>\n",
       "      <td>0.0</td>\n",
       "      <td>0.0</td>\n",
       "      <td>0.0</td>\n",
       "      <td>1</td>\n",
       "      <td>[-0.055632707, 0.7434381, 0.46346405, 0.530804...</td>\n",
       "    </tr>\n",
       "    <tr>\n",
       "      <th>2</th>\n",
       "      <td>510649702099202048</td>\n",
       "      <td>yum! even more brownie's edge in this baker's ...</td>\n",
       "      <td>&lt;a href=\"http://tweetadder.com\" rel=\"nofollow\"...</td>\n",
       "      <td>3.354013e+08</td>\n",
       "      <td>0.0</td>\n",
       "      <td>0.0</td>\n",
       "      <td>0.0</td>\n",
       "      <td>0.0</td>\n",
       "      <td>1.0</td>\n",
       "      <td>0.0</td>\n",
       "      <td>1</td>\n",
       "      <td>[-0.06478623, 0.8711866, 0.7463261, 0.65168756...</td>\n",
       "    </tr>\n",
       "    <tr>\n",
       "      <th>3</th>\n",
       "      <td>514068776598659072</td>\n",
       "      <td>check out the top &lt;number&gt; european beers &lt;url&gt;</td>\n",
       "      <td>&lt;a href=\"http://tweetadder.com\" rel=\"nofollow\"...</td>\n",
       "      <td>1.190159e+09</td>\n",
       "      <td>0.0</td>\n",
       "      <td>0.0</td>\n",
       "      <td>0.0</td>\n",
       "      <td>0.0</td>\n",
       "      <td>1.0</td>\n",
       "      <td>0.0</td>\n",
       "      <td>1</td>\n",
       "      <td>[-0.1301706, 0.8546163, 0.86320895, 0.8093027,...</td>\n",
       "    </tr>\n",
       "    <tr>\n",
       "      <th>4</th>\n",
       "      <td>567891364337160192</td>\n",
       "      <td>rt &lt;user&gt;: emotionally: i'm done. mentally: i'...</td>\n",
       "      <td>&lt;a href=\"http://twitter.com/download/iphone\" r...</td>\n",
       "      <td>1.919095e+09</td>\n",
       "      <td>954.0</td>\n",
       "      <td>0.0</td>\n",
       "      <td>0.0</td>\n",
       "      <td>0.0</td>\n",
       "      <td>0.0</td>\n",
       "      <td>1.0</td>\n",
       "      <td>0</td>\n",
       "      <td>[-0.042735964, 0.8399097, 0.5665991, 0.5889838...</td>\n",
       "    </tr>\n",
       "    <tr>\n",
       "      <th>...</th>\n",
       "      <td>...</td>\n",
       "      <td>...</td>\n",
       "      <td>...</td>\n",
       "      <td>...</td>\n",
       "      <td>...</td>\n",
       "      <td>...</td>\n",
       "      <td>...</td>\n",
       "      <td>...</td>\n",
       "      <td>...</td>\n",
       "      <td>...</td>\n",
       "      <td>...</td>\n",
       "      <td>...</td>\n",
       "    </tr>\n",
       "    <tr>\n",
       "      <th>3148243</th>\n",
       "      <td>409271432980725760</td>\n",
       "      <td>tutti gli uomini sono commedianti. salvo, fors...</td>\n",
       "      <td>&lt;a href=\"http://www.giovannamezzett.it\" rel=\"n...</td>\n",
       "      <td>1.273201e+09</td>\n",
       "      <td>0.0</td>\n",
       "      <td>0.0</td>\n",
       "      <td>0.0</td>\n",
       "      <td>0.0</td>\n",
       "      <td>0.0</td>\n",
       "      <td>0.0</td>\n",
       "      <td>1</td>\n",
       "      <td>[-0.10696832, 0.8045218, 0.5142709, 0.63387585...</td>\n",
       "    </tr>\n",
       "    <tr>\n",
       "      <th>3148244</th>\n",
       "      <td>585241732457095168</td>\n",
       "      <td>rt &lt;user&gt;: &lt;number&gt;. &lt;url&gt;</td>\n",
       "      <td>&lt;a href=\"http://twitter.com\" rel=\"nofollow\"&gt;Tw...</td>\n",
       "      <td>1.430704e+07</td>\n",
       "      <td>14.0</td>\n",
       "      <td>0.0</td>\n",
       "      <td>0.0</td>\n",
       "      <td>0.0</td>\n",
       "      <td>1.0</td>\n",
       "      <td>1.0</td>\n",
       "      <td>0</td>\n",
       "      <td>[-0.28160304, 0.9147292, 0.8585943, 0.7072718,...</td>\n",
       "    </tr>\n",
       "    <tr>\n",
       "      <th>3148245</th>\n",
       "      <td>568779099172442112</td>\n",
       "      <td>&lt;user&gt; &lt;url&gt;</td>\n",
       "      <td>&lt;a href=\"http://twitter.com\" rel=\"nofollow\"&gt;Tw...</td>\n",
       "      <td>5.677650e+08</td>\n",
       "      <td>1.0</td>\n",
       "      <td>0.0</td>\n",
       "      <td>1.0</td>\n",
       "      <td>0.0</td>\n",
       "      <td>1.0</td>\n",
       "      <td>1.0</td>\n",
       "      <td>0</td>\n",
       "      <td>[-0.31176457, 0.9354463, 0.97580546, 0.7138443...</td>\n",
       "    </tr>\n",
       "    <tr>\n",
       "      <th>3148246</th>\n",
       "      <td>460960090019749888</td>\n",
       "      <td>they were right, &lt;number&gt; hours of sleep does ...</td>\n",
       "      <td>&lt;a href=\"http://twitter.com\" rel=\"nofollow\"&gt;Tw...</td>\n",
       "      <td>2.359594e+09</td>\n",
       "      <td>0.0</td>\n",
       "      <td>0.0</td>\n",
       "      <td>0.0</td>\n",
       "      <td>0.0</td>\n",
       "      <td>0.0</td>\n",
       "      <td>0.0</td>\n",
       "      <td>1</td>\n",
       "      <td>[-0.042039264, 0.88863474, 0.7665115, 0.797695...</td>\n",
       "    </tr>\n",
       "    <tr>\n",
       "      <th>3148247</th>\n",
       "      <td>479360491312406529</td>\n",
       "      <td>ufff..... &lt;allcaps&gt;</td>\n",
       "      <td>&lt;a href=\"http://twitter.com\" rel=\"nofollow\"&gt;Tw...</td>\n",
       "      <td>1.089929e+08</td>\n",
       "      <td>0.0</td>\n",
       "      <td>0.0</td>\n",
       "      <td>0.0</td>\n",
       "      <td>0.0</td>\n",
       "      <td>0.0</td>\n",
       "      <td>0.0</td>\n",
       "      <td>1</td>\n",
       "      <td>[-0.23004222, 0.73708117, 0.49534333, 0.503463...</td>\n",
       "    </tr>\n",
       "  </tbody>\n",
       "</table>\n",
       "<p>3141714 rows × 12 columns</p>\n",
       "</div>"
      ],
      "text/plain": [
       "                         id  \\\n",
       "0        461800985719885824   \n",
       "1        525750960510222336   \n",
       "2        510649702099202048   \n",
       "3        514068776598659072   \n",
       "4        567891364337160192   \n",
       "...                     ...   \n",
       "3148243  409271432980725760   \n",
       "3148244  585241732457095168   \n",
       "3148245  568779099172442112   \n",
       "3148246  460960090019749888   \n",
       "3148247  479360491312406529   \n",
       "\n",
       "                                                      text  \\\n",
       "0        russia invaded and controlled ukraine without ...   \n",
       "1        magari la vita fosse facile come incontrare ch...   \n",
       "2        yum! even more brownie's edge in this baker's ...   \n",
       "3          check out the top <number> european beers <url>   \n",
       "4        rt <user>: emotionally: i'm done. mentally: i'...   \n",
       "...                                                    ...   \n",
       "3148243  tutti gli uomini sono commedianti. salvo, fors...   \n",
       "3148244                         rt <user>: <number>. <url>   \n",
       "3148245                                       <user> <url>   \n",
       "3148246  they were right, <number> hours of sleep does ...   \n",
       "3148247                                ufff..... <allcaps>   \n",
       "\n",
       "                                                    source       user_id  \\\n",
       "0        <a href=\"http://twitter.com\" rel=\"nofollow\">Tw...  2.384166e+09   \n",
       "1        <a href=\"http://www.fedeconiglietta.com\" rel=\"...  4.663751e+08   \n",
       "2        <a href=\"http://tweetadder.com\" rel=\"nofollow\"...  3.354013e+08   \n",
       "3        <a href=\"http://tweetadder.com\" rel=\"nofollow\"...  1.190159e+09   \n",
       "4        <a href=\"http://twitter.com/download/iphone\" r...  1.919095e+09   \n",
       "...                                                    ...           ...   \n",
       "3148243  <a href=\"http://www.giovannamezzett.it\" rel=\"n...  1.273201e+09   \n",
       "3148244  <a href=\"http://twitter.com\" rel=\"nofollow\">Tw...  1.430704e+07   \n",
       "3148245  <a href=\"http://twitter.com\" rel=\"nofollow\">Tw...  5.677650e+08   \n",
       "3148246  <a href=\"http://twitter.com\" rel=\"nofollow\">Tw...  2.359594e+09   \n",
       "3148247  <a href=\"http://twitter.com\" rel=\"nofollow\">Tw...  1.089929e+08   \n",
       "\n",
       "         retweet_count  reply_count  favorite_count  num_hashtags  num_urls  \\\n",
       "0                  0.0          0.0             0.0           0.0       0.0   \n",
       "1                  0.0          0.0             0.0           0.0       0.0   \n",
       "2                  0.0          0.0             0.0           0.0       1.0   \n",
       "3                  0.0          0.0             0.0           0.0       1.0   \n",
       "4                954.0          0.0             0.0           0.0       0.0   \n",
       "...                ...          ...             ...           ...       ...   \n",
       "3148243            0.0          0.0             0.0           0.0       0.0   \n",
       "3148244           14.0          0.0             0.0           0.0       1.0   \n",
       "3148245            1.0          0.0             1.0           0.0       1.0   \n",
       "3148246            0.0          0.0             0.0           0.0       0.0   \n",
       "3148247            0.0          0.0             0.0           0.0       0.0   \n",
       "\n",
       "         num_mentions  BotOrNot  \\\n",
       "0                 0.0         1   \n",
       "1                 0.0         1   \n",
       "2                 0.0         1   \n",
       "3                 0.0         1   \n",
       "4                 1.0         0   \n",
       "...               ...       ...   \n",
       "3148243           0.0         1   \n",
       "3148244           1.0         0   \n",
       "3148245           1.0         0   \n",
       "3148246           0.0         1   \n",
       "3148247           0.0         1   \n",
       "\n",
       "                                                 embedding  \n",
       "0        [-0.07598507, 0.75142807, 0.5416522, 0.5671289...  \n",
       "1        [-0.055632707, 0.7434381, 0.46346405, 0.530804...  \n",
       "2        [-0.06478623, 0.8711866, 0.7463261, 0.65168756...  \n",
       "3        [-0.1301706, 0.8546163, 0.86320895, 0.8093027,...  \n",
       "4        [-0.042735964, 0.8399097, 0.5665991, 0.5889838...  \n",
       "...                                                    ...  \n",
       "3148243  [-0.10696832, 0.8045218, 0.5142709, 0.63387585...  \n",
       "3148244  [-0.28160304, 0.9147292, 0.8585943, 0.7072718,...  \n",
       "3148245  [-0.31176457, 0.9354463, 0.97580546, 0.7138443...  \n",
       "3148246  [-0.042039264, 0.88863474, 0.7665115, 0.797695...  \n",
       "3148247  [-0.23004222, 0.73708117, 0.49534333, 0.503463...  \n",
       "\n",
       "[3141714 rows x 12 columns]"
      ]
     },
     "execution_count": 20,
     "metadata": {},
     "output_type": "execute_result"
    }
   ],
   "source": [
    "Final_Tweet_df"
   ]
  },
  {
   "cell_type": "code",
   "execution_count": 21,
   "metadata": {
    "id": "RZjX9WacSqAo"
   },
   "outputs": [
    {
     "name": "stdout",
     "output_type": "stream",
     "text": [
      "Epoch 1/20\n"
     ]
    },
    {
     "name": "stderr",
     "output_type": "stream",
     "text": [
      "C:\\Users\\hassa\\.conda\\envs\\NLP\\lib\\site-packages\\keras\\engine\\data_adapter.py:1696: FutureWarning: The behavior of `series[i:j]` with an integer-dtype index is deprecated. In a future version, this will be treated as *label-based* indexing, consistent with e.g. `series[i]` lookups. To retain the old behavior, use `series.iloc[i:j]`. To get the future behavior, use `series.loc[i:j]`.\n",
      "  return t[start:end]\n"
     ]
    },
    {
     "name": "stdout",
     "output_type": "stream",
     "text": [
      "7855/7855 [==============================] - 118s 15ms/step - loss: 0.7648 - accuracy: 0.7951 - val_loss: 0.5105 - val_accuracy: 0.8024\n",
      "Epoch 2/20\n",
      "7855/7855 [==============================] - 116s 15ms/step - loss: 0.5046 - accuracy: 0.8019 - val_loss: 0.4680 - val_accuracy: 0.8046\n",
      "Epoch 3/20\n",
      "7855/7855 [==============================] - 119s 15ms/step - loss: 0.4749 - accuracy: 0.8028 - val_loss: 0.4681 - val_accuracy: 0.8046\n",
      "Epoch 4/20\n",
      "7855/7855 [==============================] - 120s 15ms/step - loss: 0.4706 - accuracy: 0.8041 - val_loss: 0.4627 - val_accuracy: 0.8061\n",
      "Epoch 5/20\n",
      "7855/7855 [==============================] - 122s 15ms/step - loss: 0.4706 - accuracy: 0.8046 - val_loss: 0.4620 - val_accuracy: 0.8064\n",
      "Epoch 6/20\n",
      "7855/7855 [==============================] - 123s 16ms/step - loss: 0.4708 - accuracy: 0.8048 - val_loss: 0.4647 - val_accuracy: 0.8046\n",
      "Epoch 7/20\n",
      "7855/7855 [==============================] - 124s 16ms/step - loss: 0.4682 - accuracy: 0.8047 - val_loss: 0.4645 - val_accuracy: 0.8056\n",
      "Epoch 8/20\n",
      "7855/7855 [==============================] - 125s 16ms/step - loss: 0.4692 - accuracy: 0.8050 - val_loss: 0.4610 - val_accuracy: 0.8067\n",
      "Epoch 9/20\n",
      "7855/7855 [==============================] - 126s 16ms/step - loss: 0.4692 - accuracy: 0.8049 - val_loss: 0.4616 - val_accuracy: 0.8067\n",
      "Epoch 10/20\n",
      "7855/7855 [==============================] - 127s 16ms/step - loss: 0.4674 - accuracy: 0.8050 - val_loss: 0.4619 - val_accuracy: 0.8060\n",
      "Epoch 11/20\n",
      "7855/7855 [==============================] - 127s 16ms/step - loss: 0.4676 - accuracy: 0.8048 - val_loss: 0.4607 - val_accuracy: 0.8065\n",
      "Epoch 12/20\n",
      "7855/7855 [==============================] - 128s 16ms/step - loss: 0.4668 - accuracy: 0.8053 - val_loss: 0.4596 - val_accuracy: 0.8064\n",
      "Epoch 13/20\n",
      "7855/7855 [==============================] - 128s 16ms/step - loss: 0.4668 - accuracy: 0.8054 - val_loss: 0.4605 - val_accuracy: 0.8066\n",
      "Epoch 14/20\n",
      "7855/7855 [==============================] - 129s 16ms/step - loss: 0.4668 - accuracy: 0.8056 - val_loss: 0.4595 - val_accuracy: 0.8065\n",
      "Epoch 15/20\n",
      "7855/7855 [==============================] - 130s 17ms/step - loss: 0.4664 - accuracy: 0.8054 - val_loss: 0.4602 - val_accuracy: 0.8060\n",
      "Epoch 16/20\n",
      "7855/7855 [==============================] - 131s 17ms/step - loss: 0.4660 - accuracy: 0.8055 - val_loss: 0.4628 - val_accuracy: 0.8072\n",
      "Epoch 17/20\n",
      "7855/7855 [==============================] - 133s 17ms/step - loss: 0.4658 - accuracy: 0.8054 - val_loss: 0.4597 - val_accuracy: 0.8072\n",
      "Epoch 18/20\n",
      "7855/7855 [==============================] - 137s 17ms/step - loss: 0.4661 - accuracy: 0.8056 - val_loss: 0.4601 - val_accuracy: 0.8059\n",
      "Epoch 19/20\n",
      "7855/7855 [==============================] - 140s 18ms/step - loss: 0.4668 - accuracy: 0.8052 - val_loss: 0.4601 - val_accuracy: 0.8064\n",
      "Epoch 20/20\n",
      "7855/7855 [==============================] - 133s 17ms/step - loss: 0.4659 - accuracy: 0.8052 - val_loss: 0.4591 - val_accuracy: 0.8067\n",
      "19636/19636 [==============================] - 44s 2ms/step - loss: 0.4599 - accuracy: 0.8067\n",
      "Test Loss: 0.45991039276123047\n",
      "Test Accuracy: 0.8067313432693481\n"
     ]
    }
   ],
   "source": [
    "import numpy as np\n",
    "from keras.models import Model\n",
    "from keras.layers import Input, LSTM, Dense, concatenate, Dropout\n",
    "from sklearn.model_selection import train_test_split\n",
    "from keras.utils import pad_sequences\n",
    "import tensorflow as tf\n",
    "from keras.optimizers import Adam, SGD\n",
    "\n",
    "# Assuming you have the following variables with your tweet data\n",
    "tokenized_tweets = Final_Tweet_df['embedding']\n",
    "metadata = Final_Tweet_df[['retweet_count', 'reply_count', 'favorite_count', 'num_hashtags', 'num_urls', 'num_mentions']]\n",
    "labels = Final_Tweet_df['BotOrNot']\n",
    "\n",
    "# Convert tokenized tweets to sequences\n",
    "sequences = tokenized_tweets\n",
    "\n",
    "# Pad sequences to have the same length\n",
    "max_sequence_length = max(len(seq) for seq in sequences)\n",
    "padded_sequences = pad_sequences(sequences, maxlen=max_sequence_length)\n",
    "#padded_sequences = padded_sequences.reshape(padded_sequences.shape[0], padded_sequences.shape[1], 1)\n",
    "#padded_sequences = np.expand_dims(padded_sequences, axis=-1)\n",
    "\n",
    "\n",
    "# Split data into train and test sets\n",
    "X_train_text, X_test_text, X_train_metadata, X_test_metadata, y_train, y_test = train_test_split(\n",
    "    padded_sequences, metadata, labels, test_size=0.2, random_state=42)\n",
    "\n",
    "# Define LSTM model architecture\n",
    "tweet_input = Input(shape=(max_sequence_length,))\n",
    "metadata_input = Input(shape=(X_train_metadata.shape[1],))\n",
    "tweet_input = tf.expand_dims(tweet_input, axis=-1)\n",
    "\n",
    "Optimizer = Adam(learning_rate=0.0007)  # Specify your desired learning rate here\n",
    "\n",
    "lstm_output = LSTM(32)(tweet_input)\n",
    "\n",
    "concatenated_output = concatenate([lstm_output, metadata_input])\n",
    "dense_layer = Dense(128, activation='relu')(concatenated_output)\n",
    "dense_layer = Dropout(0.2)(dense_layer)\n",
    "\n",
    "dense_layer2 = Dense(64, activation='relu')(concatenated_output)\n",
    "dense_layer2 = Dropout(0.1)(dense_layer)\n",
    "\n",
    "output = Dense(1, activation='sigmoid')(dense_layer)\n",
    "\n",
    "model = Model(inputs=[tweet_input, metadata_input], outputs=output)\n",
    "model.compile(loss='binary_crossentropy', optimizer=Optimizer, metrics=['accuracy'])\n",
    "\n",
    "# Train the model\n",
    "model.fit([X_train_text, X_train_metadata], y_train, batch_size=256, epochs=20, validation_split=0.2)\n",
    "\n",
    "# Evaluate the model\n",
    "loss, accuracy = model.evaluate([X_test_text, X_test_metadata], y_test)\n",
    "print('Test Loss:', loss)\n",
    "print('Test Accuracy:', accuracy)"
   ]
  },
  {
   "cell_type": "code",
   "execution_count": 22,
   "metadata": {},
   "outputs": [],
   "source": [
    "model.save('tweet_model.h5')"
   ]
  },
  {
   "cell_type": "code",
   "execution_count": 25,
   "metadata": {},
   "outputs": [
    {
     "name": "stdout",
     "output_type": "stream",
     "text": [
      "19636/19636 [==============================] - 42s 2ms/step\n",
      "Recall Score: 0.8872471207100318\n",
      "F1 Score: 0.834560110730113\n",
      "ROC/AUC Score: 0.8468545091803743\n"
     ]
    }
   ],
   "source": [
    "from sklearn.metrics import precision_score, roc_auc_score, recall_score, f1_score\n",
    "# Evaluating the model\n",
    "y_pred_prob = model.predict([X_test_text, X_test_metadata])\n",
    "y_pred = (y_pred_prob >= 0.5).astype(int)\n",
    "y_scores = y_pred_prob.ravel()\n",
    "\n",
    "recall = recall_score(y_test, y_pred)\n",
    "f1 = f1_score(y_test, y_pred)\n",
    "roc_auc = roc_auc_score(y_test, y_scores)\n",
    "\n",
    "print(\"Recall Score:\", recall)\n",
    "print(\"F1 Score:\", f1)\n",
    "print(\"ROC/AUC Score:\", roc_auc)"
   ]
  },
  {
   "cell_type": "code",
   "execution_count": null,
   "metadata": {},
   "outputs": [],
   "source": []
  }
 ],
 "metadata": {
  "accelerator": "GPU",
  "colab": {
   "collapsed_sections": [
    "9KQMAyjUSB1C",
    "XyGSaCxpVFMr"
   ],
   "gpuType": "T4",
   "provenance": []
  },
  "kernelspec": {
   "display_name": "Python 3 (ipykernel)",
   "language": "python",
   "name": "python3"
  },
  "language_info": {
   "codemirror_mode": {
    "name": "ipython",
    "version": 3
   },
   "file_extension": ".py",
   "mimetype": "text/x-python",
   "name": "python",
   "nbconvert_exporter": "python",
   "pygments_lexer": "ipython3",
   "version": "3.9.16"
  }
 },
 "nbformat": 4,
 "nbformat_minor": 1
}
